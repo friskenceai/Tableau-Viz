{
 "cells": [
  {
   "cell_type": "code",
   "execution_count": 51,
   "id": "c1ec4fee",
   "metadata": {},
   "outputs": [],
   "source": [
    "import numpy as np,pandas as pd"
   ]
  },
  {
   "cell_type": "code",
   "execution_count": 52,
   "id": "40afe2fc",
   "metadata": {},
   "outputs": [],
   "source": [
    "df = pd.read_excel('Round 3 Dataset.xlsx','Sheet14', header=1)"
   ]
  },
  {
   "cell_type": "code",
   "execution_count": 53,
   "id": "c739e397",
   "metadata": {},
   "outputs": [
    {
     "data": {
      "text/html": [
       "<div>\n",
       "<style scoped>\n",
       "    .dataframe tbody tr th:only-of-type {\n",
       "        vertical-align: middle;\n",
       "    }\n",
       "\n",
       "    .dataframe tbody tr th {\n",
       "        vertical-align: top;\n",
       "    }\n",
       "\n",
       "    .dataframe thead th {\n",
       "        text-align: right;\n",
       "    }\n",
       "</style>\n",
       "<table border=\"1\" class=\"dataframe\">\n",
       "  <thead>\n",
       "    <tr style=\"text-align: right;\">\n",
       "      <th></th>\n",
       "      <th>Month</th>\n",
       "      <th>Details</th>\n",
       "      <th>BANK OF BARODA</th>\n",
       "      <th>BANK OF INDIA</th>\n",
       "      <th>BANK OF MAHARASHTRA</th>\n",
       "      <th>CANARA BANK</th>\n",
       "      <th>CENTRAL BANK OF INDIA</th>\n",
       "      <th>INDIAN BANK</th>\n",
       "      <th>INDIAN OVERSEAS BANK</th>\n",
       "      <th>PUNJAB AND SIND BANK</th>\n",
       "      <th>...</th>\n",
       "      <th>EQUITAS SMALL FINANCE BANK LTD</th>\n",
       "      <th>ESAF SMALL FINANCE BANK LTD</th>\n",
       "      <th>FINCARE SMALL FINANCE BANK LTD</th>\n",
       "      <th>JANA SMALL FINANCE BANK LTD</th>\n",
       "      <th>NORTH EAST SMALL FINANCE BANK LTD</th>\n",
       "      <th>SHIVALIK SMALL FINANCE BANK LTD</th>\n",
       "      <th>SURYODAY SMALL FINANCE BANK LTD</th>\n",
       "      <th>UJJIVAN SMALL FINANCE BANK LTD</th>\n",
       "      <th>UNITY SMALL FINANCE BANK LTD</th>\n",
       "      <th>UTKARSH SMALL FINANCE BANK LTD</th>\n",
       "    </tr>\n",
       "  </thead>\n",
       "  <tbody>\n",
       "    <tr>\n",
       "      <th>0</th>\n",
       "      <td>2023-01-01</td>\n",
       "      <td>Total Outstanding Debit Cards</td>\n",
       "      <td>8.069609e+07</td>\n",
       "      <td>4.682490e+07</td>\n",
       "      <td>1.327146e+07</td>\n",
       "      <td>4.958930e+07</td>\n",
       "      <td>2.802955e+07</td>\n",
       "      <td>2.904223e+07</td>\n",
       "      <td>1.610262e+07</td>\n",
       "      <td>3.633066e+06</td>\n",
       "      <td>...</td>\n",
       "      <td>3.237558e+06</td>\n",
       "      <td>4.920739e+06</td>\n",
       "      <td>4.249826e+06</td>\n",
       "      <td>2.668149e+06</td>\n",
       "      <td>381660.00000</td>\n",
       "      <td>88305.0000</td>\n",
       "      <td>557093.00000</td>\n",
       "      <td>8.416877e+06</td>\n",
       "      <td>0.0</td>\n",
       "      <td>1515458.000</td>\n",
       "    </tr>\n",
       "    <tr>\n",
       "      <th>1</th>\n",
       "      <td>2023-01-01</td>\n",
       "      <td>POS Volume Actual</td>\n",
       "      <td>6.606778e+06</td>\n",
       "      <td>4.362722e+06</td>\n",
       "      <td>1.836309e+06</td>\n",
       "      <td>9.080661e+06</td>\n",
       "      <td>2.804597e+06</td>\n",
       "      <td>5.072748e+06</td>\n",
       "      <td>3.373955e+06</td>\n",
       "      <td>6.518570e+05</td>\n",
       "      <td>...</td>\n",
       "      <td>2.456050e+05</td>\n",
       "      <td>2.576210e+05</td>\n",
       "      <td>4.830000e+04</td>\n",
       "      <td>5.485800e+04</td>\n",
       "      <td>13372.00000</td>\n",
       "      <td>6341.0000</td>\n",
       "      <td>19072.00000</td>\n",
       "      <td>3.018460e+05</td>\n",
       "      <td>0.0</td>\n",
       "      <td>36601.000</td>\n",
       "    </tr>\n",
       "    <tr>\n",
       "      <th>2</th>\n",
       "      <td>2023-01-01</td>\n",
       "      <td>POS Value (in '000 Rs)</td>\n",
       "      <td>1.311466e+07</td>\n",
       "      <td>7.660196e+06</td>\n",
       "      <td>2.878445e+06</td>\n",
       "      <td>1.934527e+07</td>\n",
       "      <td>6.212433e+06</td>\n",
       "      <td>1.001265e+07</td>\n",
       "      <td>6.374055e+06</td>\n",
       "      <td>1.478384e+06</td>\n",
       "      <td>...</td>\n",
       "      <td>4.126236e+05</td>\n",
       "      <td>3.439301e+05</td>\n",
       "      <td>6.234635e+04</td>\n",
       "      <td>9.252018e+04</td>\n",
       "      <td>18587.16092</td>\n",
       "      <td>14452.7031</td>\n",
       "      <td>25513.86719</td>\n",
       "      <td>4.623412e+05</td>\n",
       "      <td>0.0</td>\n",
       "      <td>61945.142</td>\n",
       "    </tr>\n",
       "    <tr>\n",
       "      <th>3</th>\n",
       "      <td>2023-01-01</td>\n",
       "      <td>ECOM Volume in Actuals</td>\n",
       "      <td>2.267410e+06</td>\n",
       "      <td>1.597922e+06</td>\n",
       "      <td>6.960530e+05</td>\n",
       "      <td>1.991696e+06</td>\n",
       "      <td>5.081680e+05</td>\n",
       "      <td>2.032739e+06</td>\n",
       "      <td>9.368040e+05</td>\n",
       "      <td>1.079090e+05</td>\n",
       "      <td>...</td>\n",
       "      <td>7.500200e+04</td>\n",
       "      <td>1.706800e+04</td>\n",
       "      <td>5.817000e+03</td>\n",
       "      <td>8.146000e+03</td>\n",
       "      <td>0.00000</td>\n",
       "      <td>5265.0000</td>\n",
       "      <td>2055.00000</td>\n",
       "      <td>1.172650e+05</td>\n",
       "      <td>0.0</td>\n",
       "      <td>9811.000</td>\n",
       "    </tr>\n",
       "    <tr>\n",
       "      <th>4</th>\n",
       "      <td>2023-01-01</td>\n",
       "      <td>ECOM Value (in '000 Rs)</td>\n",
       "      <td>5.713638e+06</td>\n",
       "      <td>2.554862e+06</td>\n",
       "      <td>1.060807e+06</td>\n",
       "      <td>4.372541e+06</td>\n",
       "      <td>1.170727e+06</td>\n",
       "      <td>3.516056e+06</td>\n",
       "      <td>1.696393e+06</td>\n",
       "      <td>3.605990e+05</td>\n",
       "      <td>...</td>\n",
       "      <td>3.020629e+05</td>\n",
       "      <td>3.398585e+04</td>\n",
       "      <td>1.094422e+04</td>\n",
       "      <td>1.895707e+04</td>\n",
       "      <td>0.00000</td>\n",
       "      <td>16136.5541</td>\n",
       "      <td>5407.38912</td>\n",
       "      <td>2.592879e+05</td>\n",
       "      <td>0.0</td>\n",
       "      <td>21930.590</td>\n",
       "    </tr>\n",
       "  </tbody>\n",
       "</table>\n",
       "<p>5 rows × 63 columns</p>\n",
       "</div>"
      ],
      "text/plain": [
       "       Month                        Details  BANK OF BARODA  BANK OF INDIA  \\\n",
       "0 2023-01-01  Total Outstanding Debit Cards    8.069609e+07   4.682490e+07   \n",
       "1 2023-01-01              POS Volume Actual    6.606778e+06   4.362722e+06   \n",
       "2 2023-01-01         POS Value (in '000 Rs)    1.311466e+07   7.660196e+06   \n",
       "3 2023-01-01         ECOM Volume in Actuals    2.267410e+06   1.597922e+06   \n",
       "4 2023-01-01        ECOM Value (in '000 Rs)    5.713638e+06   2.554862e+06   \n",
       "\n",
       "   BANK OF MAHARASHTRA   CANARA BANK  CENTRAL BANK OF INDIA   INDIAN BANK  \\\n",
       "0         1.327146e+07  4.958930e+07           2.802955e+07  2.904223e+07   \n",
       "1         1.836309e+06  9.080661e+06           2.804597e+06  5.072748e+06   \n",
       "2         2.878445e+06  1.934527e+07           6.212433e+06  1.001265e+07   \n",
       "3         6.960530e+05  1.991696e+06           5.081680e+05  2.032739e+06   \n",
       "4         1.060807e+06  4.372541e+06           1.170727e+06  3.516056e+06   \n",
       "\n",
       "   INDIAN OVERSEAS BANK  PUNJAB AND SIND BANK  ...  \\\n",
       "0          1.610262e+07          3.633066e+06  ...   \n",
       "1          3.373955e+06          6.518570e+05  ...   \n",
       "2          6.374055e+06          1.478384e+06  ...   \n",
       "3          9.368040e+05          1.079090e+05  ...   \n",
       "4          1.696393e+06          3.605990e+05  ...   \n",
       "\n",
       "   EQUITAS SMALL FINANCE BANK LTD  ESAF SMALL FINANCE BANK LTD  \\\n",
       "0                    3.237558e+06                 4.920739e+06   \n",
       "1                    2.456050e+05                 2.576210e+05   \n",
       "2                    4.126236e+05                 3.439301e+05   \n",
       "3                    7.500200e+04                 1.706800e+04   \n",
       "4                    3.020629e+05                 3.398585e+04   \n",
       "\n",
       "   FINCARE SMALL FINANCE BANK LTD  JANA SMALL FINANCE BANK LTD  \\\n",
       "0                    4.249826e+06                 2.668149e+06   \n",
       "1                    4.830000e+04                 5.485800e+04   \n",
       "2                    6.234635e+04                 9.252018e+04   \n",
       "3                    5.817000e+03                 8.146000e+03   \n",
       "4                    1.094422e+04                 1.895707e+04   \n",
       "\n",
       "   NORTH EAST SMALL FINANCE BANK LTD  SHIVALIK SMALL FINANCE BANK LTD  \\\n",
       "0                       381660.00000                       88305.0000   \n",
       "1                        13372.00000                        6341.0000   \n",
       "2                        18587.16092                       14452.7031   \n",
       "3                            0.00000                        5265.0000   \n",
       "4                            0.00000                       16136.5541   \n",
       "\n",
       "   SURYODAY SMALL FINANCE BANK LTD  UJJIVAN SMALL FINANCE BANK LTD  \\\n",
       "0                     557093.00000                    8.416877e+06   \n",
       "1                      19072.00000                    3.018460e+05   \n",
       "2                      25513.86719                    4.623412e+05   \n",
       "3                       2055.00000                    1.172650e+05   \n",
       "4                       5407.38912                    2.592879e+05   \n",
       "\n",
       "   UNITY SMALL FINANCE BANK LTD  UTKARSH SMALL FINANCE BANK LTD  \n",
       "0                           0.0                     1515458.000  \n",
       "1                           0.0                       36601.000  \n",
       "2                           0.0                       61945.142  \n",
       "3                           0.0                        9811.000  \n",
       "4                           0.0                       21930.590  \n",
       "\n",
       "[5 rows x 63 columns]"
      ]
     },
     "execution_count": 53,
     "metadata": {},
     "output_type": "execute_result"
    }
   ],
   "source": [
    "df.head()"
   ]
  },
  {
   "cell_type": "code",
   "execution_count": 54,
   "id": "0887e6d5",
   "metadata": {},
   "outputs": [
    {
     "data": {
      "text/plain": [
       "(84, 63)"
      ]
     },
     "execution_count": 54,
     "metadata": {},
     "output_type": "execute_result"
    }
   ],
   "source": [
    "df.shape"
   ]
  },
  {
   "cell_type": "code",
   "execution_count": 55,
   "id": "61448d8b",
   "metadata": {},
   "outputs": [
    {
     "data": {
      "text/plain": [
       "Month                              0\n",
       "Details                            0\n",
       "BANK OF BARODA                     0\n",
       "BANK OF INDIA                      0\n",
       "BANK OF MAHARASHTRA                0\n",
       "                                  ..\n",
       "SHIVALIK SMALL FINANCE BANK LTD    0\n",
       "SURYODAY SMALL FINANCE BANK LTD    0\n",
       "UJJIVAN SMALL FINANCE BANK LTD     0\n",
       "UNITY SMALL FINANCE BANK LTD       0\n",
       "UTKARSH SMALL FINANCE BANK LTD     0\n",
       "Length: 63, dtype: int64"
      ]
     },
     "execution_count": 55,
     "metadata": {},
     "output_type": "execute_result"
    }
   ],
   "source": [
    "df.isnull().sum()"
   ]
  },
  {
   "cell_type": "code",
   "execution_count": 56,
   "id": "515d2fa3",
   "metadata": {},
   "outputs": [
    {
     "data": {
      "text/plain": [
       "5355"
      ]
     },
     "execution_count": 56,
     "metadata": {},
     "output_type": "execute_result"
    }
   ],
   "source": [
    "85*63"
   ]
  },
  {
   "cell_type": "code",
   "execution_count": 57,
   "id": "760e3e51",
   "metadata": {},
   "outputs": [
    {
     "data": {
      "text/plain": [
       "12.142857142857142"
      ]
     },
     "execution_count": 57,
     "metadata": {},
     "output_type": "execute_result"
    }
   ],
   "source": [
    "85/7"
   ]
  },
  {
   "cell_type": "code",
   "execution_count": 58,
   "id": "71b31a02",
   "metadata": {},
   "outputs": [
    {
     "data": {
      "text/plain": [
       "819"
      ]
     },
     "execution_count": 58,
     "metadata": {},
     "output_type": "execute_result"
    }
   ],
   "source": [
    "13*63"
   ]
  },
  {
   "cell_type": "code",
   "execution_count": 59,
   "id": "ed608fad",
   "metadata": {},
   "outputs": [
    {
     "data": {
      "text/plain": [
       "array(['Total Outstanding Debit Cards', 'POS Volume Actual',\n",
       "       \"POS Value (in '000 Rs)\", 'ECOM Volume in Actuals',\n",
       "       \"ECOM Value (in '000 Rs)\", 'ATM Volume Actual',\n",
       "       \"ATM Value (in '000 Rs)\"], dtype=object)"
      ]
     },
     "execution_count": 59,
     "metadata": {},
     "output_type": "execute_result"
    }
   ],
   "source": [
    "df['Details'].unique()"
   ]
  },
  {
   "cell_type": "code",
   "execution_count": 60,
   "id": "dd441dca",
   "metadata": {},
   "outputs": [
    {
     "name": "stdout",
     "output_type": "stream",
     "text": [
      "         Month                                  Bank  ATM Value (in '000 Rs)  \\\n",
      "0   2023-01-01                  AIRTEL PAYMENTS BANK            1.500000e+00   \n",
      "1   2023-01-01  AMERICAN EXPRESS BANKING CORPORATION            0.000000e+00   \n",
      "2   2023-01-01             AU SMALL FINANCE BANK LTD            6.308578e+06   \n",
      "3   2023-01-01                         AXIS BANK LTD            1.275139e+08   \n",
      "4   2023-01-01                      BANDHAN BANK LTD            1.331639e+07   \n",
      "..         ...                                   ...                     ...   \n",
      "727 2023-12-01                   UNION BANK OF INDIA            1.420698e+08   \n",
      "728 2023-12-01          UNITY SMALL FINANCE BANK LTD            8.000000e+01   \n",
      "729 2023-12-01        UTKARSH SMALL FINANCE BANK LTD            1.472319e+06   \n",
      "730 2023-12-01                            WOORI BANK            6.400400e+03   \n",
      "731 2023-12-01                          YES BANK LTD            1.339487e+07   \n",
      "\n",
      "     ATM Volume Actual  ECOM Value (in '000 Rs)  ECOM Volume in Actuals  \\\n",
      "0                  3.0             1.931672e+05                254817.0   \n",
      "1                  0.0             0.000000e+00                     0.0   \n",
      "2             979181.0             6.626563e+05                251550.0   \n",
      "3           20730852.0             1.312528e+07               3986633.0   \n",
      "4            2584931.0             6.284796e+05                215592.0   \n",
      "..                 ...                      ...                     ...   \n",
      "727         46149142.0             5.935776e+06               2781827.0   \n",
      "728               31.0             4.450000e+00                     4.0   \n",
      "729           365218.0             2.880152e+04                 12735.0   \n",
      "730              876.0             3.307250e+03                  1020.0   \n",
      "731          2903242.0             1.094211e+06                233336.0   \n",
      "\n",
      "     POS Value (in '000 Rs)  POS Volume Actual  Total Outstanding Debit Cards  \n",
      "0              0.000000e+00                0.0                      3817705.0  \n",
      "1              0.000000e+00                0.0                            0.0  \n",
      "2              6.092257e+05           238273.0                      2425014.0  \n",
      "3              2.254061e+07          9329694.0                     28890599.0  \n",
      "4              1.189557e+06           476876.0                      5329042.0  \n",
      "..                      ...                ...                            ...  \n",
      "727            1.293831e+07          6160068.0                     54004328.0  \n",
      "728            3.927000e+00                7.0                           11.0  \n",
      "729            6.965492e+04            36322.0                      1806260.0  \n",
      "730            1.110948e+04             2985.0                          972.0  \n",
      "731            1.940099e+06           799555.0                      5179905.0  \n",
      "\n",
      "[732 rows x 9 columns]\n"
     ]
    }
   ],
   "source": [
    "melted_df = pd.melt(df, id_vars=['Month', 'Details'], var_name='Bank', value_name='Value')\n",
    "pivot_df = melted_df.pivot_table(index=['Month', 'Bank'], columns='Details', values='Value').reset_index()\n",
    "pivot_df.columns.name = None\n",
    "pivot_df = pivot_df.reset_index(drop=True)\n",
    "\n",
    "print(pivot_df)\n"
   ]
  },
  {
   "cell_type": "code",
   "execution_count": 61,
   "id": "92b4da70",
   "metadata": {},
   "outputs": [
    {
     "data": {
      "text/html": [
       "<div>\n",
       "<style scoped>\n",
       "    .dataframe tbody tr th:only-of-type {\n",
       "        vertical-align: middle;\n",
       "    }\n",
       "\n",
       "    .dataframe tbody tr th {\n",
       "        vertical-align: top;\n",
       "    }\n",
       "\n",
       "    .dataframe thead th {\n",
       "        text-align: right;\n",
       "    }\n",
       "</style>\n",
       "<table border=\"1\" class=\"dataframe\">\n",
       "  <thead>\n",
       "    <tr style=\"text-align: right;\">\n",
       "      <th></th>\n",
       "      <th>Month</th>\n",
       "      <th>Bank</th>\n",
       "      <th>ATM Value (in '000 Rs)</th>\n",
       "      <th>ATM Volume Actual</th>\n",
       "      <th>ECOM Value (in '000 Rs)</th>\n",
       "      <th>ECOM Volume in Actuals</th>\n",
       "      <th>POS Value (in '000 Rs)</th>\n",
       "      <th>POS Volume Actual</th>\n",
       "      <th>Total Outstanding Debit Cards</th>\n",
       "    </tr>\n",
       "  </thead>\n",
       "  <tbody>\n",
       "    <tr>\n",
       "      <th>0</th>\n",
       "      <td>2023-01-01</td>\n",
       "      <td>AIRTEL PAYMENTS BANK</td>\n",
       "      <td>1.500000e+00</td>\n",
       "      <td>3.0</td>\n",
       "      <td>1.931672e+05</td>\n",
       "      <td>254817.0</td>\n",
       "      <td>0.000000e+00</td>\n",
       "      <td>0.0</td>\n",
       "      <td>3817705.0</td>\n",
       "    </tr>\n",
       "    <tr>\n",
       "      <th>1</th>\n",
       "      <td>2023-01-01</td>\n",
       "      <td>AMERICAN EXPRESS BANKING CORPORATION</td>\n",
       "      <td>0.000000e+00</td>\n",
       "      <td>0.0</td>\n",
       "      <td>0.000000e+00</td>\n",
       "      <td>0.0</td>\n",
       "      <td>0.000000e+00</td>\n",
       "      <td>0.0</td>\n",
       "      <td>0.0</td>\n",
       "    </tr>\n",
       "    <tr>\n",
       "      <th>2</th>\n",
       "      <td>2023-01-01</td>\n",
       "      <td>AU SMALL FINANCE BANK LTD</td>\n",
       "      <td>6.308578e+06</td>\n",
       "      <td>979181.0</td>\n",
       "      <td>6.626563e+05</td>\n",
       "      <td>251550.0</td>\n",
       "      <td>6.092257e+05</td>\n",
       "      <td>238273.0</td>\n",
       "      <td>2425014.0</td>\n",
       "    </tr>\n",
       "    <tr>\n",
       "      <th>3</th>\n",
       "      <td>2023-01-01</td>\n",
       "      <td>AXIS BANK LTD</td>\n",
       "      <td>1.275139e+08</td>\n",
       "      <td>20730852.0</td>\n",
       "      <td>1.312528e+07</td>\n",
       "      <td>3986633.0</td>\n",
       "      <td>2.254061e+07</td>\n",
       "      <td>9329694.0</td>\n",
       "      <td>28890599.0</td>\n",
       "    </tr>\n",
       "    <tr>\n",
       "      <th>4</th>\n",
       "      <td>2023-01-01</td>\n",
       "      <td>BANDHAN BANK LTD</td>\n",
       "      <td>1.331639e+07</td>\n",
       "      <td>2584931.0</td>\n",
       "      <td>6.284796e+05</td>\n",
       "      <td>215592.0</td>\n",
       "      <td>1.189557e+06</td>\n",
       "      <td>476876.0</td>\n",
       "      <td>5329042.0</td>\n",
       "    </tr>\n",
       "  </tbody>\n",
       "</table>\n",
       "</div>"
      ],
      "text/plain": [
       "       Month                                  Bank  ATM Value (in '000 Rs)  \\\n",
       "0 2023-01-01                  AIRTEL PAYMENTS BANK            1.500000e+00   \n",
       "1 2023-01-01  AMERICAN EXPRESS BANKING CORPORATION            0.000000e+00   \n",
       "2 2023-01-01             AU SMALL FINANCE BANK LTD            6.308578e+06   \n",
       "3 2023-01-01                         AXIS BANK LTD            1.275139e+08   \n",
       "4 2023-01-01                      BANDHAN BANK LTD            1.331639e+07   \n",
       "\n",
       "   ATM Volume Actual  ECOM Value (in '000 Rs)  ECOM Volume in Actuals  \\\n",
       "0                3.0             1.931672e+05                254817.0   \n",
       "1                0.0             0.000000e+00                     0.0   \n",
       "2           979181.0             6.626563e+05                251550.0   \n",
       "3         20730852.0             1.312528e+07               3986633.0   \n",
       "4          2584931.0             6.284796e+05                215592.0   \n",
       "\n",
       "   POS Value (in '000 Rs)  POS Volume Actual  Total Outstanding Debit Cards  \n",
       "0            0.000000e+00                0.0                      3817705.0  \n",
       "1            0.000000e+00                0.0                            0.0  \n",
       "2            6.092257e+05           238273.0                      2425014.0  \n",
       "3            2.254061e+07          9329694.0                     28890599.0  \n",
       "4            1.189557e+06           476876.0                      5329042.0  "
      ]
     },
     "execution_count": 61,
     "metadata": {},
     "output_type": "execute_result"
    }
   ],
   "source": [
    "pivot_df.head()"
   ]
  },
  {
   "cell_type": "code",
   "execution_count": 62,
   "id": "fddf66e0",
   "metadata": {},
   "outputs": [
    {
     "data": {
      "text/plain": [
       "(732, 9)"
      ]
     },
     "execution_count": 62,
     "metadata": {},
     "output_type": "execute_result"
    }
   ],
   "source": [
    "pivot_df.shape"
   ]
  },
  {
   "cell_type": "code",
   "execution_count": 63,
   "id": "e829c9e8",
   "metadata": {},
   "outputs": [
    {
     "data": {
      "text/plain": [
       "Month                            0\n",
       "Bank                             0\n",
       "ATM Value (in '000 Rs)           0\n",
       "ATM Volume Actual                0\n",
       "ECOM Value (in '000 Rs)          0\n",
       "ECOM Volume in Actuals           0\n",
       "POS Value (in '000 Rs)           0\n",
       "POS Volume Actual                0\n",
       "Total Outstanding Debit Cards    0\n",
       "dtype: int64"
      ]
     },
     "execution_count": 63,
     "metadata": {},
     "output_type": "execute_result"
    }
   ],
   "source": [
    "pivot_df.isnull().sum()"
   ]
  },
  {
   "cell_type": "code",
   "execution_count": 64,
   "id": "f7a2ab50",
   "metadata": {},
   "outputs": [
    {
     "name": "stdout",
     "output_type": "stream",
     "text": [
      "<class 'pandas.core.frame.DataFrame'>\n",
      "RangeIndex: 732 entries, 0 to 731\n",
      "Data columns (total 9 columns):\n",
      " #   Column                         Non-Null Count  Dtype         \n",
      "---  ------                         --------------  -----         \n",
      " 0   Month                          732 non-null    datetime64[ns]\n",
      " 1   Bank                           732 non-null    object        \n",
      " 2   ATM Value (in '000 Rs)         732 non-null    float64       \n",
      " 3   ATM Volume Actual              732 non-null    float64       \n",
      " 4   ECOM Value (in '000 Rs)        732 non-null    float64       \n",
      " 5   ECOM Volume in Actuals         732 non-null    float64       \n",
      " 6   POS Value (in '000 Rs)         732 non-null    float64       \n",
      " 7   POS Volume Actual              732 non-null    float64       \n",
      " 8   Total Outstanding Debit Cards  732 non-null    float64       \n",
      "dtypes: datetime64[ns](1), float64(7), object(1)\n",
      "memory usage: 51.6+ KB\n"
     ]
    }
   ],
   "source": [
    "pivot_df.info()"
   ]
  },
  {
   "cell_type": "code",
   "execution_count": 65,
   "id": "896ec4e4",
   "metadata": {},
   "outputs": [],
   "source": [
    "bank_sector_mapping = {\n",
    "    'BANK OF BARODA': 'Public',\n",
    "    'BANK OF INDIA': 'Public',\n",
    "    'BANK OF MAHARASHTRA': 'Public',\n",
    "    'CANARA BANK': 'Public',\n",
    "    'CENTRAL BANK OF INDIA': 'Public',\n",
    "    'INDIAN BANK': 'Public',\n",
    "    'INDIAN OVERSEAS BANK': 'Public',\n",
    "    'PUNJAB AND SIND BANK': 'Public',\n",
    "    'PUNJAB NATIONAL BANK': 'Public',\n",
    "    'STATE BANK OF INDIA': 'Public',\n",
    "    'UCO BANK': 'Public',\n",
    "    'UNION BANK OF INDIA': 'Public',\n",
    "    'AXIS BANK LTD': 'Private',\n",
    "    'BANDHAN BANK LTD': 'Private',\n",
    "    'CITY UNION BANK LTD.': 'Private',\n",
    "    'CSB BANK LTD.': 'Private',\n",
    "    'DCB BANK LTD': 'Private',\n",
    "    'DHANALAKSHMI BANK LTD': 'Private',\n",
    "    'FEDERAL BANK LTD': 'Private',\n",
    "    'HDFC BANK LTD': 'Private',\n",
    "    'ICICI BANK LTD': 'Private',\n",
    "    'IDBI BANK LTD': 'Private',\n",
    "    'IDFC FIRST BANK LTD': 'Private',\n",
    "    'INDUSIND BANK LTD': 'Private',\n",
    "    'JAMMU AND KASHMIR BANK LTD': 'Private',\n",
    "    'KARNATAKA BANK LTD': 'Private',\n",
    "    'KARUR VYSYA BANK LTD': 'Private',\n",
    "    'KOTAK MAHINDRA BANK LTD': 'Private',\n",
    "    'NAINITAL BANK LTD': 'Private',\n",
    "    'RBL BANK LTD': 'Private',\n",
    "    'SOUTH INDIAN BANK': 'Private',\n",
    "    'TAMILNAD MERCANTILE BANK LTD': 'Private',\n",
    "    'YES BANK LTD': 'Private',\n",
    "    'AMERICAN EXPRESS BANKING CORPORATION': 'Foreign',\n",
    "    'BANK OF AMERICA': 'Foreign',\n",
    "    'BARCLAYS BANK PLC': 'Foreign',\n",
    "    'CITI BANK': 'Foreign',\n",
    "    'DBS INDIA BANK LTD': 'Foreign',\n",
    "    'DEUTSCHE BANK LTD': 'Foreign',\n",
    "    'HSBC LTD': 'Foreign',\n",
    "    'SBM BANK INDIA LTD': 'Foreign',\n",
    "    'STANDARD CHARTERED BANK LTD': 'Foreign',\n",
    "    'WOORI BANK': 'Foreign',\n",
    "    'AIRTEL PAYMENTS BANK': 'Payments',\n",
    "    'FINO PAYMENTS BANK': 'Payments',\n",
    "    'INDIA POST PAYMENTS BANK': 'Payments',\n",
    "    'JIO PAYMENTS BANK ': 'Payments',\n",
    "    'NSDL PAYMENTS BANK': 'Payments',\n",
    "    'PAYTM PAYMENTS BANK': 'Payments',\n",
    "    'AU SMALL FINANCE BANK LTD': 'Small Finance',\n",
    "    'CAPITAL SMALL FINANCE BANK LTD': 'Small Finance',\n",
    "    'EQUITAS SMALL FINANCE BANK LTD': 'Small Finance',\n",
    "    'ESAF SMALL FINANCE BANK LTD': 'Small Finance',\n",
    "    'FINCARE SMALL FINANCE BANK LTD': 'Small Finance',\n",
    "    'JANA SMALL FINANCE BANK LTD': 'Small Finance',\n",
    "    'NORTH EAST SMALL FINANCE BANK LTD': 'Small Finance',\n",
    "    'SHIVALIK SMALL FINANCE BANK LTD': 'Small Finance',\n",
    "    'SURYODAY SMALL FINANCE BANK LTD': 'Small Finance',\n",
    "    'UJJIVAN SMALL FINANCE BANK LTD': 'Small Finance',\n",
    "    'UNITY SMALL FINANCE BANK LTD': 'Small Finance',\n",
    "    'UTKARSH SMALL FINANCE BANK LTD': 'Small Finance',\n",
    "}\n",
    "\n",
    "\n",
    "pivot_df['Bank Sector'] = pivot_df['Bank'].map(bank_sector_mapping)"
   ]
  },
  {
   "cell_type": "code",
   "execution_count": 66,
   "id": "28bf9819",
   "metadata": {},
   "outputs": [
    {
     "data": {
      "text/plain": [
       "(732, 10)"
      ]
     },
     "execution_count": 66,
     "metadata": {},
     "output_type": "execute_result"
    }
   ],
   "source": [
    "pivot_df.shape"
   ]
  },
  {
   "cell_type": "code",
   "execution_count": 67,
   "id": "7cc58e03",
   "metadata": {},
   "outputs": [
    {
     "data": {
      "text/html": [
       "<div>\n",
       "<style scoped>\n",
       "    .dataframe tbody tr th:only-of-type {\n",
       "        vertical-align: middle;\n",
       "    }\n",
       "\n",
       "    .dataframe tbody tr th {\n",
       "        vertical-align: top;\n",
       "    }\n",
       "\n",
       "    .dataframe thead th {\n",
       "        text-align: right;\n",
       "    }\n",
       "</style>\n",
       "<table border=\"1\" class=\"dataframe\">\n",
       "  <thead>\n",
       "    <tr style=\"text-align: right;\">\n",
       "      <th></th>\n",
       "      <th>Month</th>\n",
       "      <th>Bank</th>\n",
       "      <th>ATM Value (in '000 Rs)</th>\n",
       "      <th>ATM Volume Actual</th>\n",
       "      <th>ECOM Value (in '000 Rs)</th>\n",
       "      <th>ECOM Volume in Actuals</th>\n",
       "      <th>POS Value (in '000 Rs)</th>\n",
       "      <th>POS Volume Actual</th>\n",
       "      <th>Total Outstanding Debit Cards</th>\n",
       "      <th>Bank Sector</th>\n",
       "    </tr>\n",
       "  </thead>\n",
       "  <tbody>\n",
       "    <tr>\n",
       "      <th>0</th>\n",
       "      <td>2023-01-01</td>\n",
       "      <td>AIRTEL PAYMENTS BANK</td>\n",
       "      <td>1.500000e+00</td>\n",
       "      <td>3.0</td>\n",
       "      <td>1.931672e+05</td>\n",
       "      <td>254817.0</td>\n",
       "      <td>0.000000e+00</td>\n",
       "      <td>0.0</td>\n",
       "      <td>3817705.0</td>\n",
       "      <td>Payments</td>\n",
       "    </tr>\n",
       "    <tr>\n",
       "      <th>1</th>\n",
       "      <td>2023-01-01</td>\n",
       "      <td>AMERICAN EXPRESS BANKING CORPORATION</td>\n",
       "      <td>0.000000e+00</td>\n",
       "      <td>0.0</td>\n",
       "      <td>0.000000e+00</td>\n",
       "      <td>0.0</td>\n",
       "      <td>0.000000e+00</td>\n",
       "      <td>0.0</td>\n",
       "      <td>0.0</td>\n",
       "      <td>Foreign</td>\n",
       "    </tr>\n",
       "    <tr>\n",
       "      <th>2</th>\n",
       "      <td>2023-01-01</td>\n",
       "      <td>AU SMALL FINANCE BANK LTD</td>\n",
       "      <td>6.308578e+06</td>\n",
       "      <td>979181.0</td>\n",
       "      <td>6.626563e+05</td>\n",
       "      <td>251550.0</td>\n",
       "      <td>6.092257e+05</td>\n",
       "      <td>238273.0</td>\n",
       "      <td>2425014.0</td>\n",
       "      <td>Small Finance</td>\n",
       "    </tr>\n",
       "    <tr>\n",
       "      <th>3</th>\n",
       "      <td>2023-01-01</td>\n",
       "      <td>AXIS BANK LTD</td>\n",
       "      <td>1.275139e+08</td>\n",
       "      <td>20730852.0</td>\n",
       "      <td>1.312528e+07</td>\n",
       "      <td>3986633.0</td>\n",
       "      <td>2.254061e+07</td>\n",
       "      <td>9329694.0</td>\n",
       "      <td>28890599.0</td>\n",
       "      <td>Private</td>\n",
       "    </tr>\n",
       "    <tr>\n",
       "      <th>4</th>\n",
       "      <td>2023-01-01</td>\n",
       "      <td>BANDHAN BANK LTD</td>\n",
       "      <td>1.331639e+07</td>\n",
       "      <td>2584931.0</td>\n",
       "      <td>6.284796e+05</td>\n",
       "      <td>215592.0</td>\n",
       "      <td>1.189557e+06</td>\n",
       "      <td>476876.0</td>\n",
       "      <td>5329042.0</td>\n",
       "      <td>Private</td>\n",
       "    </tr>\n",
       "  </tbody>\n",
       "</table>\n",
       "</div>"
      ],
      "text/plain": [
       "       Month                                  Bank  ATM Value (in '000 Rs)  \\\n",
       "0 2023-01-01                  AIRTEL PAYMENTS BANK            1.500000e+00   \n",
       "1 2023-01-01  AMERICAN EXPRESS BANKING CORPORATION            0.000000e+00   \n",
       "2 2023-01-01             AU SMALL FINANCE BANK LTD            6.308578e+06   \n",
       "3 2023-01-01                         AXIS BANK LTD            1.275139e+08   \n",
       "4 2023-01-01                      BANDHAN BANK LTD            1.331639e+07   \n",
       "\n",
       "   ATM Volume Actual  ECOM Value (in '000 Rs)  ECOM Volume in Actuals  \\\n",
       "0                3.0             1.931672e+05                254817.0   \n",
       "1                0.0             0.000000e+00                     0.0   \n",
       "2           979181.0             6.626563e+05                251550.0   \n",
       "3         20730852.0             1.312528e+07               3986633.0   \n",
       "4          2584931.0             6.284796e+05                215592.0   \n",
       "\n",
       "   POS Value (in '000 Rs)  POS Volume Actual  Total Outstanding Debit Cards  \\\n",
       "0            0.000000e+00                0.0                      3817705.0   \n",
       "1            0.000000e+00                0.0                            0.0   \n",
       "2            6.092257e+05           238273.0                      2425014.0   \n",
       "3            2.254061e+07          9329694.0                     28890599.0   \n",
       "4            1.189557e+06           476876.0                      5329042.0   \n",
       "\n",
       "     Bank Sector  \n",
       "0       Payments  \n",
       "1        Foreign  \n",
       "2  Small Finance  \n",
       "3        Private  \n",
       "4        Private  "
      ]
     },
     "execution_count": 67,
     "metadata": {},
     "output_type": "execute_result"
    }
   ],
   "source": [
    "pivot_df.head()"
   ]
  },
  {
   "cell_type": "code",
   "execution_count": 68,
   "id": "9f1bd82d",
   "metadata": {},
   "outputs": [],
   "source": [
    "pivot_df.to_excel('Final Data.xlsx')"
   ]
  },
  {
   "cell_type": "code",
   "execution_count": 69,
   "id": "691ae9ef",
   "metadata": {},
   "outputs": [
    {
     "data": {
      "text/plain": [
       "Month                            0\n",
       "Bank                             0\n",
       "ATM Value (in '000 Rs)           0\n",
       "ATM Volume Actual                0\n",
       "ECOM Value (in '000 Rs)          0\n",
       "ECOM Volume in Actuals           0\n",
       "POS Value (in '000 Rs)           0\n",
       "POS Volume Actual                0\n",
       "Total Outstanding Debit Cards    0\n",
       "Bank Sector                      0\n",
       "dtype: int64"
      ]
     },
     "execution_count": 69,
     "metadata": {},
     "output_type": "execute_result"
    }
   ],
   "source": [
    "pivot_df.isnull().sum()"
   ]
  },
  {
   "cell_type": "code",
   "execution_count": null,
   "id": "1f7b3499",
   "metadata": {},
   "outputs": [],
   "source": []
  }
 ],
 "metadata": {
  "kernelspec": {
   "display_name": "Python 3 (ipykernel)",
   "language": "python",
   "name": "python3"
  },
  "language_info": {
   "codemirror_mode": {
    "name": "ipython",
    "version": 3
   },
   "file_extension": ".py",
   "mimetype": "text/x-python",
   "name": "python",
   "nbconvert_exporter": "python",
   "pygments_lexer": "ipython3",
   "version": "3.11.5"
  }
 },
 "nbformat": 4,
 "nbformat_minor": 5
}
